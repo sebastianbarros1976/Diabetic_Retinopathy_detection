{
  "nbformat": 4,
  "nbformat_minor": 0,
  "metadata": {
    "colab": {
      "provenance": [],
      "authorship_tag": "ABX9TyO1S/LCz6iTsft+6urHDd3k",
      "include_colab_link": true
    },
    "kernelspec": {
      "name": "python3",
      "display_name": "Python 3"
    },
    "language_info": {
      "name": "python"
    }
  },
  "cells": [
    {
      "cell_type": "markdown",
      "metadata": {
        "id": "view-in-github",
        "colab_type": "text"
      },
      "source": [
        "<a href=\"https://colab.research.google.com/github/sebastianbarros1976/Diabetic_Retinopathy_detection/blob/main/Retinopathy_Detection_AI.ipynb\" target=\"_parent\"><img src=\"https://colab.research.google.com/assets/colab-badge.svg\" alt=\"Open In Colab\"/></a>"
      ]
    },
    {
      "cell_type": "markdown",
      "source": [
        "# Step 1: Mount Google Drive\n"
      ],
      "metadata": {
        "id": "d8x_sNVzKhCh"
      }
    },
    {
      "cell_type": "code",
      "source": [
        "## Step 1: Mount Google Drive\n",
        "\n",
        "Mount Google Drive to access the dataset and save the model.\n",
        "\n",
        "```python\n",
        "from google.colab import drive\n",
        "drive.mount('/content/drive')\n"
      ],
      "metadata": {
        "id": "sgPEvRkPKjFd"
      },
      "execution_count": null,
      "outputs": []
    },
    {
      "cell_type": "markdown",
      "source": [
        "# Step 2: Install Necessary Libraries"
      ],
      "metadata": {
        "id": "9zSckyPUKlLp"
      }
    },
    {
      "cell_type": "code",
      "source": [
        "## Step 2: Install Necessary Libraries\n",
        "\n",
        "Install the required libraries including Gradio and Kaggle.\n",
        "\n",
        "```python\n",
        "!pip install tensorflow numpy matplotlib scikit-learn gradio pillow kaggle\n"
      ],
      "metadata": {
        "id": "twuBDNkiKpqA"
      },
      "execution_count": null,
      "outputs": []
    },
    {
      "cell_type": "markdown",
      "source": [
        "# Step 3: Import Libraries\n"
      ],
      "metadata": {
        "id": "vB0-pP5CKsJn"
      }
    },
    {
      "cell_type": "code",
      "source": [
        "## Step 3: Import Libraries\n",
        "\n",
        "Import all necessary libraries for data handling, model training, and evaluation.\n",
        "\n",
        "```python\n",
        "import os\n",
        "import pandas as pd\n",
        "from tensorflow.keras.preprocessing.image import ImageDataGenerator\n",
        "import numpy as np\n",
        "import matplotlib.pyplot as plt\n",
        "import seaborn as sns\n",
        "from sklearn.utils import shuffle\n",
        "from sklearn.model_selection import train_test_split\n",
        "from tensorflow.keras.applications import ResNet50\n",
        "from tensorflow.keras.layers import Dense, Flatten, Dropout\n",
        "from tensorflow.keras.models import Model, Sequential\n",
        "from tensorflow.keras.callbacks import EarlyStopping, ModelCheckpoint\n",
        "from tensorflow.keras.models import load_model\n",
        "import cv2\n",
        "import gradio as gr\n"
      ],
      "metadata": {
        "id": "e_Mo8R3xKuMP"
      },
      "execution_count": null,
      "outputs": []
    },
    {
      "cell_type": "markdown",
      "source": [
        "# Step 4: Download and Prepare the Data\n"
      ],
      "metadata": {
        "id": "6Cx3hZhRKwy1"
      }
    },
    {
      "cell_type": "code",
      "source": [
        "## Step 4: Download and Prepare the Data\n",
        "\n",
        "Download the dataset from Kaggle and prepare the data loaders for training, validation, and testing.\n",
        "\n",
        "```python\n",
        "# Set up Kaggle API credentials\n",
        "!mkdir -p ~/.kaggle\n",
        "!echo '{\"username\":\"your-username\",\"key\":\"your-api-key\"}' > ~/.kaggle/kaggle.json\n",
        "!chmod 600 ~/.kaggle/kaggle.json\n",
        "\n",
        "# Download the dataset from Kaggle\n",
        "!kaggle datasets download -d sovitrath/diabetic-retinopathy-224x224-gaussian-filtered\n",
        "!unzip diabetic-retinopathy-224x224-gaussian-filtered.zip -d data\n",
        "\n",
        "# Define the path to the training data\n",
        "train_folder_path = 'data/gaussian_filtered_images/Train'\n",
        "\n",
        "# Initialize lists to store image paths and corresponding labels\n",
        "train = []\n",
        "label = []\n",
        "\n",
        "# Iterate over each class directory in the train folder\n",
        "for category in os.listdir(train_folder_path):\n",
        "    category_path = os.path.join(train_folder_path, category)\n",
        "    if os.path.isdir(category_path):\n",
        "        for image in os.listdir(category_path):\n",
        "            image_path = os.path.join(category_path, image)\n",
        "            train.append(image_path)\n",
        "            label.append(category)\n",
        "\n",
        "# Create a DataFrame\n",
        "retina_df = pd.DataFrame({'Image': train, 'Labels': label})\n",
        "\n",
        "# Shuffle and split the data\n",
        "retina_df = shuffle(retina_df)\n",
        "train_df, test_df = train_test_split(retina_df, test_size=0.2)\n",
        "\n",
        "# Data augmentation and generators\n",
        "train_datagen = ImageDataGenerator(\n",
        "    rescale=1./255,\n",
        "    shear_range=0.2,\n",
        "    zoom_range=0.2,\n",
        "    horizontal_flip=True,\n",
        "    validation_split=0.15\n",
        ")\n",
        "\n",
        "test_datagen = ImageDataGenerator(rescale=1./255)\n",
        "\n",
        "train_generator = train_datagen.flow_from_dataframe(\n",
        "    train_df,\n",
        "    x_col='Image',\n",
        "    y_col='Labels',\n",
        "    target_size=(224, 224),\n",
        "    batch_size=32,\n",
        "    class_mode='categorical',\n",
        "    subset='training'\n",
        ")\n",
        "\n",
        "validation_generator = train_datagen.flow_from_dataframe(\n",
        "    train_df,\n",
        "    x_col='Image',\n",
        "    y_col='Labels',\n",
        "    target_size=(224, 224),\n",
        "    batch_size=32,\n",
        "    class_mode='categorical',\n",
        "    subset='validation'\n",
        ")\n",
        "\n",
        "test_generator = test_datagen.flow_from_dataframe(\n",
        "    test_df,\n",
        "    x_col='Image',\n",
        "    y_col='Labels',\n",
        "    target_size=(224, 224),\n",
        "    batch_size=32,\n",
        "    class_mode='categorical'\n",
        ")\n"
      ],
      "metadata": {
        "id": "YtmhwN1UKzKz"
      },
      "execution_count": null,
      "outputs": []
    },
    {
      "cell_type": "markdown",
      "source": [
        "# Step 5: Define and Compile the Model\n"
      ],
      "metadata": {
        "id": "Pvj8ersGK3aK"
      }
    },
    {
      "cell_type": "code",
      "source": [
        "## Step 5: Define and Compile the Model\n",
        "\n",
        "Define the architecture of the Convolutional Neural Network (CNN) and compile it.\n",
        "\n",
        "```python\n",
        "# Load the ResNet50 model\n",
        "base_model = ResNet50(weights='imagenet', include_top=False, input_shape=(224, 224, 3))\n",
        "\n",
        "# Build the model\n",
        "model = Sequential()\n",
        "model.add(base_model)\n",
        "model.add(Flatten())\n",
        "model.add(Dense(256, activation='relu'))\n",
        "model.add(Dropout(0.5))\n",
        "model.add(Dense(5, activation='softmax'))\n",
        "\n",
        "# Compile the model\n",
        "model.compile(optimizer='adam', loss='categorical_crossentropy', metrics=['accuracy'])\n",
        "\n",
        "# Model summary\n",
        "model.summary()\n"
      ],
      "metadata": {
        "id": "-FF8Lg65K4YI"
      },
      "execution_count": null,
      "outputs": []
    },
    {
      "cell_type": "markdown",
      "source": [
        "# Step 6: Train the Model\n"
      ],
      "metadata": {
        "id": "8eF2CeKRK8iv"
      }
    },
    {
      "cell_type": "code",
      "source": [
        "## Step 6: Train the Model\n",
        "\n",
        "Train the model using the training and validation data.\n",
        "\n",
        "```python\n",
        "# Callbacks\n",
        "early_stopping = EarlyStopping(monitor='val_loss', patience=10, restore_best_weights=True)\n",
        "model_checkpoint = ModelCheckpoint('/content/drive/My Drive/Colab Notebooks/retinopathy_model.h5', save_best_only=True, monitor='val_loss')\n",
        "\n",
        "# Train the model\n",
        "history = model.fit(\n",
        "    train_generator,\n",
        "    validation_data=validation_generator,\n",
        "    epochs=50,\n",
        "    callbacks=[early_stopping, model_checkpoint]\n",
        ")\n",
        "\n",
        "# Save the final model\n",
        "model.save('/content/drive/My Drive/Colab Notebooks/retinopathy_model_final.h5')\n"
      ],
      "metadata": {
        "id": "NQTmvEq3K9ee"
      },
      "execution_count": null,
      "outputs": []
    },
    {
      "cell_type": "markdown",
      "source": [
        "# Step 7: Evaluate the Model"
      ],
      "metadata": {
        "id": "pQTEKif8LCaH"
      }
    },
    {
      "cell_type": "code",
      "source": [
        "## Step 7: Evaluate the Model\n",
        "\n",
        "Evaluate the model using the test data and display evaluation metrics.\n",
        "\n",
        "```python\n",
        "# Load the trained model\n",
        "retinopathy_model = load_model('/content/drive/My Drive/Colab Notebooks/retinopathy_model.h5')\n",
        "\n",
        "# Evaluate the model\n",
        "test_loss, test_acc = retinopathy_model.evaluate(test_generator)\n",
        "print(f\"Test Accuracy: {test_acc * 100:.2f}%\")\n",
        "\n",
        "# Get predictions\n",
        "y_pred = retinopathy_model.predict(test_generator)\n",
        "y_pred_classes = np.argmax(y_pred, axis=1)\n",
        "y_true = test_generator.classes\n",
        "\n",
        "# Classification report\n",
        "print(\"Classification Report:\\n\", classification_report(y_true, y_pred_classes))\n",
        "\n",
        "# Confusion matrix\n",
        "cm = confusion_matrix(y_true, y_pred_classes)\n",
        "plt.figure(figsize=(10, 8))\n",
        "sns.heatmap(cm, annot=True, fmt='d', cmap='Blues', xticklabels=test_generator.class_indices.keys(), yticklabels=test_generator.class_indices.keys())\n",
        "plt.xlabel('Predicted')\n",
        "plt.ylabel('True')\n",
        "plt.title('Confusion Matrix')\n",
        "plt.show()\n"
      ],
      "metadata": {
        "id": "NAmieVTVLIHD"
      },
      "execution_count": null,
      "outputs": []
    },
    {
      "cell_type": "markdown",
      "source": [
        "# Step 8: Predict Single Image\n"
      ],
      "metadata": {
        "id": "wY4HqUWCLLL_"
      }
    },
    {
      "cell_type": "code",
      "source": [
        "## Step 8: Predict Single Image\n",
        "\n",
        "Define a function to predict the class of a single image.\n",
        "\n",
        "```python\n",
        "# Define class names\n",
        "class_names = {0: 'No_DR', 1: 'Mild', 2: 'Moderate', 3: 'Severe', 4: 'Proliferative_DR'}\n",
        "\n",
        "# Define a function to predict the class of a single image\n",
        "def predict_retinopathy(image_path):\n",
        "    # Load the image\n",
        "    image = cv2.imread(image_path)\n",
        "    # Check if the image was loaded correctly\n",
        "    if image is None:\n",
        "        raise ValueError(f\"Image not found or unable to load: {image_path}\")\n",
        "    # Preprocess the image\n",
        "    image = cv2.resize(image, (224, 224))\n",
        "    image = image / 255.0\n",
        "    image = np.expand_dims(image, axis=0)\n",
        "    # Make a prediction\n",
        "    prediction = retinopathy_model.predict(image).flatten()\n",
        "    # Format the result\n",
        "    result = {class_names[i]: float(prediction[i]) for i in range(5)}\n",
        "    return result\n",
        "\n",
        "# Path to the test image\n",
        "test_image_path = \"/content/drive/My Drive/Colab Notebooks/TestImage.jpg\"  # Ensure this path is correct\n",
        "\n",
        "# Get the prediction\n",
        "try:\n",
        "    prediction = predict_retinopathy(test_image_path)\n",
        "    print(\"Prediction for the selected test image:\", prediction)\n",
        "except ValueError as e:\n",
        "    print(e)\n"
      ],
      "metadata": {
        "id": "lzJ8j6D9LMMJ"
      },
      "execution_count": null,
      "outputs": []
    },
    {
      "cell_type": "markdown",
      "source": [
        "# Step 9: Create Gradio Interface\n"
      ],
      "metadata": {
        "id": "ylLsdAoBLOr0"
      }
    },
    {
      "cell_type": "code",
      "source": [
        "## Step 9: Create Gradio Interface\n",
        "\n",
        "Create a user-friendly interface using Gradio for making predictions on new images.\n",
        "\n",
        "```python\n",
        "# Define the prediction function for Gradio interface\n",
        "def predict_retinopathy_gradio(image):\n",
        "    # Preprocess the image\n",
        "    image = cv2.resize(image, (224, 224))\n",
        "    image = image / 255.0\n",
        "    image = np.expand_dims(image, axis=0)\n",
        "    # Make a prediction\n",
        "    prediction = retinopathy_model.predict(image).flatten()\n",
        "    # Format the result\n",
        "    return {class_names[i]: float(prediction[i]) for i in range(5)}\n",
        "\n",
        "# Define the input and output interfaces\n",
        "image_input = gr.Image(shape=(224, 224))\n",
        "label_output = gr.Label(num_top_classes=5)\n",
        "\n",
        "# Create the Gradio interface\n",
        "interface = gr.Interface(fn=predict_retinopathy_gradio, inputs=image_input, outputs=label_output,\n",
        "                         title=\"Diabetic Retinopathy Detection\",\n",
        "                         description=\"Upload a retina image to classify its severity of diabetic retinopathy.\")\n",
        "\n",
        "# Launch the Gradio interface\n",
        "interface.launch(share=True)\n"
      ],
      "metadata": {
        "id": "E5sz_-3WLR93"
      },
      "execution_count": null,
      "outputs": []
    },
    {
      "cell_type": "markdown",
      "source": [],
      "metadata": {
        "id": "8n9754X9KsEv"
      }
    }
  ]
}